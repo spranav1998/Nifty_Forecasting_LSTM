{
  "nbformat": 4,
  "nbformat_minor": 0,
  "metadata": {
    "colab": {
      "name": "Nifty Prediction.ipynb",
      "provenance": [],
      "mount_file_id": "13qRzS2jXmIA12xWmGzVXvk0eX4CP0POE",
      "authorship_tag": "ABX9TyPoWPBegnJ5eIsIEg2jvTha",
      "include_colab_link": true
    },
    "kernelspec": {
      "name": "python3",
      "display_name": "Python 3"
    },
    "language_info": {
      "name": "python"
    }
  },
  "cells": [
    {
      "cell_type": "markdown",
      "metadata": {
        "id": "view-in-github",
        "colab_type": "text"
      },
      "source": [
        "<a href=\"https://colab.research.google.com/github/spranav1998/Nifty_Forecasting_LSTM/blob/main/Nifty_Prediction.ipynb\" target=\"_parent\"><img src=\"https://colab.research.google.com/assets/colab-badge.svg\" alt=\"Open In Colab\"/></a>"
      ]
    },
    {
      "cell_type": "code",
      "execution_count": 6,
      "metadata": {
        "id": "_4TzkaAZujm-"
      },
      "outputs": [],
      "source": [
        "import numpy as np\n",
        "import matplotlib.pyplot as plt\n",
        "import pandas as pd\n",
        "from tensorflow.keras.models import Sequential\n",
        "from tensorflow.keras.layers import Dense, LSTM,GRU,SimpleRNN\n",
        "from sklearn.preprocessing import MinMaxScaler\n",
        "from tensorflow.keras import optimizers\n",
        "from tensorflow.keras import models\n",
        "from tensorflow.keras import callbacks\n",
        "import seaborn as sns  # Data visualization\n",
        "from sklearn import metrics  # Model evaluation\n",
        "from sklearn.preprocessing import MinMaxScaler"
      ]
    },
    {
      "cell_type": "code",
      "source": [
        "nifty_folder = '/content/drive/MyDrive/Colab Notebooks/Colab_Datasets/Nifty/'"
      ],
      "metadata": {
        "id": "N3YRydkvvVqb"
      },
      "execution_count": 7,
      "outputs": []
    },
    {
      "cell_type": "code",
      "source": [
        "Nifty_Main_Data = '/content/drive/MyDrive/Colab Notebooks/Colab_Datasets/Nifty/NIfty Close main.xlsx'"
      ],
      "metadata": {
        "id": "8-O90XW2vinx"
      },
      "execution_count": 8,
      "outputs": []
    },
    {
      "cell_type": "code",
      "source": [
        "df = pd.read_excel(Nifty_Main_Data)"
      ],
      "metadata": {
        "id": "9yuslhVZvuWx"
      },
      "execution_count": 9,
      "outputs": []
    },
    {
      "cell_type": "code",
      "source": [
        "df.head()"
      ],
      "metadata": {
        "colab": {
          "base_uri": "https://localhost:8080/",
          "height": 206
        },
        "id": "9-GzU6XTv1kz",
        "outputId": "62357ac9-1c8b-4a3f-babe-674fb3e96b99"
      },
      "execution_count": 10,
      "outputs": [
        {
          "output_type": "execute_result",
          "data": {
            "text/plain": [
              "        Date  Sl. No.    Close\n",
              "0 2017-01-02        1  8179.50\n",
              "1 2017-01-03        2  8192.25\n",
              "2 2017-01-04        3  8190.50\n",
              "3 2017-01-05        4  8273.80\n",
              "4 2017-01-06        5  8243.80"
            ],
            "text/html": [
              "\n",
              "  <div id=\"df-25d8342e-fa90-494d-b6ac-44704a6f4072\">\n",
              "    <div class=\"colab-df-container\">\n",
              "      <div>\n",
              "<style scoped>\n",
              "    .dataframe tbody tr th:only-of-type {\n",
              "        vertical-align: middle;\n",
              "    }\n",
              "\n",
              "    .dataframe tbody tr th {\n",
              "        vertical-align: top;\n",
              "    }\n",
              "\n",
              "    .dataframe thead th {\n",
              "        text-align: right;\n",
              "    }\n",
              "</style>\n",
              "<table border=\"1\" class=\"dataframe\">\n",
              "  <thead>\n",
              "    <tr style=\"text-align: right;\">\n",
              "      <th></th>\n",
              "      <th>Date</th>\n",
              "      <th>Sl. No.</th>\n",
              "      <th>Close</th>\n",
              "    </tr>\n",
              "  </thead>\n",
              "  <tbody>\n",
              "    <tr>\n",
              "      <th>0</th>\n",
              "      <td>2017-01-02</td>\n",
              "      <td>1</td>\n",
              "      <td>8179.50</td>\n",
              "    </tr>\n",
              "    <tr>\n",
              "      <th>1</th>\n",
              "      <td>2017-01-03</td>\n",
              "      <td>2</td>\n",
              "      <td>8192.25</td>\n",
              "    </tr>\n",
              "    <tr>\n",
              "      <th>2</th>\n",
              "      <td>2017-01-04</td>\n",
              "      <td>3</td>\n",
              "      <td>8190.50</td>\n",
              "    </tr>\n",
              "    <tr>\n",
              "      <th>3</th>\n",
              "      <td>2017-01-05</td>\n",
              "      <td>4</td>\n",
              "      <td>8273.80</td>\n",
              "    </tr>\n",
              "    <tr>\n",
              "      <th>4</th>\n",
              "      <td>2017-01-06</td>\n",
              "      <td>5</td>\n",
              "      <td>8243.80</td>\n",
              "    </tr>\n",
              "  </tbody>\n",
              "</table>\n",
              "</div>\n",
              "      <button class=\"colab-df-convert\" onclick=\"convertToInteractive('df-25d8342e-fa90-494d-b6ac-44704a6f4072')\"\n",
              "              title=\"Convert this dataframe to an interactive table.\"\n",
              "              style=\"display:none;\">\n",
              "        \n",
              "  <svg xmlns=\"http://www.w3.org/2000/svg\" height=\"24px\"viewBox=\"0 0 24 24\"\n",
              "       width=\"24px\">\n",
              "    <path d=\"M0 0h24v24H0V0z\" fill=\"none\"/>\n",
              "    <path d=\"M18.56 5.44l.94 2.06.94-2.06 2.06-.94-2.06-.94-.94-2.06-.94 2.06-2.06.94zm-11 1L8.5 8.5l.94-2.06 2.06-.94-2.06-.94L8.5 2.5l-.94 2.06-2.06.94zm10 10l.94 2.06.94-2.06 2.06-.94-2.06-.94-.94-2.06-.94 2.06-2.06.94z\"/><path d=\"M17.41 7.96l-1.37-1.37c-.4-.4-.92-.59-1.43-.59-.52 0-1.04.2-1.43.59L10.3 9.45l-7.72 7.72c-.78.78-.78 2.05 0 2.83L4 21.41c.39.39.9.59 1.41.59.51 0 1.02-.2 1.41-.59l7.78-7.78 2.81-2.81c.8-.78.8-2.07 0-2.86zM5.41 20L4 18.59l7.72-7.72 1.47 1.35L5.41 20z\"/>\n",
              "  </svg>\n",
              "      </button>\n",
              "      \n",
              "  <style>\n",
              "    .colab-df-container {\n",
              "      display:flex;\n",
              "      flex-wrap:wrap;\n",
              "      gap: 12px;\n",
              "    }\n",
              "\n",
              "    .colab-df-convert {\n",
              "      background-color: #E8F0FE;\n",
              "      border: none;\n",
              "      border-radius: 50%;\n",
              "      cursor: pointer;\n",
              "      display: none;\n",
              "      fill: #1967D2;\n",
              "      height: 32px;\n",
              "      padding: 0 0 0 0;\n",
              "      width: 32px;\n",
              "    }\n",
              "\n",
              "    .colab-df-convert:hover {\n",
              "      background-color: #E2EBFA;\n",
              "      box-shadow: 0px 1px 2px rgba(60, 64, 67, 0.3), 0px 1px 3px 1px rgba(60, 64, 67, 0.15);\n",
              "      fill: #174EA6;\n",
              "    }\n",
              "\n",
              "    [theme=dark] .colab-df-convert {\n",
              "      background-color: #3B4455;\n",
              "      fill: #D2E3FC;\n",
              "    }\n",
              "\n",
              "    [theme=dark] .colab-df-convert:hover {\n",
              "      background-color: #434B5C;\n",
              "      box-shadow: 0px 1px 3px 1px rgba(0, 0, 0, 0.15);\n",
              "      filter: drop-shadow(0px 1px 2px rgba(0, 0, 0, 0.3));\n",
              "      fill: #FFFFFF;\n",
              "    }\n",
              "  </style>\n",
              "\n",
              "      <script>\n",
              "        const buttonEl =\n",
              "          document.querySelector('#df-25d8342e-fa90-494d-b6ac-44704a6f4072 button.colab-df-convert');\n",
              "        buttonEl.style.display =\n",
              "          google.colab.kernel.accessAllowed ? 'block' : 'none';\n",
              "\n",
              "        async function convertToInteractive(key) {\n",
              "          const element = document.querySelector('#df-25d8342e-fa90-494d-b6ac-44704a6f4072');\n",
              "          const dataTable =\n",
              "            await google.colab.kernel.invokeFunction('convertToInteractive',\n",
              "                                                     [key], {});\n",
              "          if (!dataTable) return;\n",
              "\n",
              "          const docLinkHtml = 'Like what you see? Visit the ' +\n",
              "            '<a target=\"_blank\" href=https://colab.research.google.com/notebooks/data_table.ipynb>data table notebook</a>'\n",
              "            + ' to learn more about interactive tables.';\n",
              "          element.innerHTML = '';\n",
              "          dataTable['output_type'] = 'display_data';\n",
              "          await google.colab.output.renderOutput(dataTable, element);\n",
              "          const docLink = document.createElement('div');\n",
              "          docLink.innerHTML = docLinkHtml;\n",
              "          element.appendChild(docLink);\n",
              "        }\n",
              "      </script>\n",
              "    </div>\n",
              "  </div>\n",
              "  "
            ]
          },
          "metadata": {},
          "execution_count": 10
        }
      ]
    },
    {
      "cell_type": "code",
      "source": [
        "dataset = np.array(df['Close'])"
      ],
      "metadata": {
        "id": "WqzsfcMa7kKL"
      },
      "execution_count": 11,
      "outputs": []
    },
    {
      "cell_type": "code",
      "source": [
        "dataset.reshape(1,-1)\n",
        "plt.plot(dataset)"
      ],
      "metadata": {
        "colab": {
          "base_uri": "https://localhost:8080/",
          "height": 282
        },
        "id": "FF74Y-L57mEe",
        "outputId": "1736ad11-aae3-4471-a5ae-75af7f68f515"
      },
      "execution_count": 12,
      "outputs": [
        {
          "output_type": "execute_result",
          "data": {
            "text/plain": [
              "[<matplotlib.lines.Line2D at 0x7f19140f5550>]"
            ]
          },
          "metadata": {},
          "execution_count": 12
        },
        {
          "output_type": "display_data",
          "data": {
            "text/plain": [
              "<Figure size 432x288 with 1 Axes>"
            ],
            "image/png": "[encoded data removed]"
          },
          "metadata": {
            "needs_background": "light"
          }
        }
      ]
    },
    {
      "cell_type": "code",
      "source": [
        "scaler = MinMaxScaler()\n",
        "dataset = np.array(df['Close'])\n",
        "dataset = dataset.reshape(-1,1)\n",
        "dataset = scaler.fit_transform(dataset)"
      ],
      "metadata": {
        "id": "7n2CImFgv3yN"
      },
      "execution_count": 13,
      "outputs": []
    },
    {
      "cell_type": "code",
      "source": [
        "train_size = int(len(dataset) * 0.80)\n",
        "test_size = len(dataset) - train_size\n",
        "train=dataset[:train_size,:]\n",
        "test=dataset[train_size:1240,:]\n",
        "def getdata(data,lookback):\n",
        "    X,Y=[],[]\n",
        "    for i in range(len(data)-lookback-1):\n",
        "        X.append(data[i:i+lookback,0])\n",
        "        Y.append(data[i+lookback,0])\n",
        "    return np.array(X),np.array(Y).reshape(-1,1)\n",
        "lookback=1\n",
        "X_train,y1_train=getdata(train,lookback)\n",
        "X_test,y1_test=getdata(test,lookback)\n",
        "X_train=X_train.reshape(X_train.shape[0],X_train.shape[1],1)\n",
        "X_test=X_test.reshape(X_test.shape[0],X_test.shape[1],1)"
      ],
      "metadata": {
        "id": "zfGMi_e1wR4J"
      },
      "execution_count": 14,
      "outputs": []
    },
    {
      "cell_type": "code",
      "source": [
        "model=Sequential()\n",
        "model.add(LSTM(1000,input_shape=(lookback,1),return_sequences=True))\n",
        "model.add(LSTM(100,return_sequences=True))\n",
        "model.add(LSTM(10))\n",
        "model.add(Dense(1))\n",
        "opt = optimizers.Adam(learning_rate=0.001)\n",
        "model.compile(loss='mean_squared_error',optimizer=opt)"
      ],
      "metadata": {
        "id": "2vq70HcYwnhR"
      },
      "execution_count": 15,
      "outputs": []
    },
    {
      "cell_type": "code",
      "source": [
        "stop_early = callbacks.EarlyStopping(\n",
        "    monitor='loss', patience=5)\n",
        "checkpoint = callbacks.ModelCheckpoint(\n",
        "    'Nifty_Best_Model.hdf5',\n",
        "    verbose=1,\n",
        "    save_best_only=True,\n",
        "    monitor='loss')"
      ],
      "metadata": {
        "id": "N5jDrl-y0TLo"
      },
      "execution_count": 16,
      "outputs": []
    },
    {
      "cell_type": "code",
      "source": [
        "model.fit(X_train,y1_train, epochs=100,callbacks=[stop_early, checkpoint], batch_size=1)"
      ],
      "metadata": {
        "colab": {
          "base_uri": "https://localhost:8080/"
        },
        "id": "POJfC5BY0bll",
        "outputId": "838fc12c-4e31-4a21-d76b-a75330a557e7"
      },
      "execution_count": 17,
      "outputs": [
        {
          "output_type": "stream",
          "name": "stdout",
          "text": [
            "Epoch 1/100\n",
            "988/989 [============================>.] - ETA: 0s - loss: 0.0019\n",
            "Epoch 1: loss improved from inf to 0.00190, saving model to Nifty_Best_Model.hdf5\n",
            "989/989 [==============================] - 43s 36ms/step - loss: 0.0019\n",
            "Epoch 2/100\n",
            "989/989 [==============================] - ETA: 0s - loss: 2.3888e-04\n",
            "Epoch 2: loss improved from 0.00190 to 0.00024, saving model to Nifty_Best_Model.hdf5\n",
            "989/989 [==============================] - 34s 35ms/step - loss: 2.3888e-04\n",
            "Epoch 3/100\n",
            "988/989 [============================>.] - ETA: 0s - loss: 2.6212e-04\n",
            "Epoch 3: loss did not improve from 0.00024\n",
            "989/989 [==============================] - 35s 35ms/step - loss: 2.6195e-04\n",
            "Epoch 4/100\n",
            "989/989 [==============================] - ETA: 0s - loss: 2.4449e-04\n",
            "Epoch 4: loss did not improve from 0.00024\n",
            "989/989 [==============================] - 34s 34ms/step - loss: 2.4449e-04\n",
            "Epoch 5/100\n",
            "989/989 [==============================] - ETA: 0s - loss: 2.7332e-04\n",
            "Epoch 5: loss did not improve from 0.00024\n",
            "989/989 [==============================] - 33s 33ms/step - loss: 2.7332e-04\n",
            "Epoch 6/100\n",
            "989/989 [==============================] - ETA: 0s - loss: 2.3429e-04\n",
            "Epoch 6: loss improved from 0.00024 to 0.00023, saving model to Nifty_Best_Model.hdf5\n",
            "989/989 [==============================] - 34s 34ms/step - loss: 2.3429e-04\n",
            "Epoch 7/100\n",
            "989/989 [==============================] - ETA: 0s - loss: 2.3497e-04\n",
            "Epoch 7: loss did not improve from 0.00023\n",
            "989/989 [==============================] - 33s 34ms/step - loss: 2.3497e-04\n",
            "Epoch 8/100\n",
            "989/989 [==============================] - ETA: 0s - loss: 2.2658e-04\n",
            "Epoch 8: loss improved from 0.00023 to 0.00023, saving model to Nifty_Best_Model.hdf5\n",
            "989/989 [==============================] - 33s 34ms/step - loss: 2.2658e-04\n",
            "Epoch 9/100\n",
            "989/989 [==============================] - ETA: 0s - loss: 2.2975e-04\n",
            "Epoch 9: loss did not improve from 0.00023\n",
            "989/989 [==============================] - 34s 35ms/step - loss: 2.2975e-04\n",
            "Epoch 10/100\n",
            "989/989 [==============================] - ETA: 0s - loss: 2.0790e-04\n",
            "Epoch 10: loss improved from 0.00023 to 0.00021, saving model to Nifty_Best_Model.hdf5\n",
            "989/989 [==============================] - 33s 33ms/step - loss: 2.0790e-04\n",
            "Epoch 11/100\n",
            "989/989 [==============================] - ETA: 0s - loss: 2.0919e-04\n",
            "Epoch 11: loss did not improve from 0.00021\n",
            "989/989 [==============================] - 33s 33ms/step - loss: 2.0919e-04\n",
            "Epoch 12/100\n",
            "989/989 [==============================] - ETA: 0s - loss: 2.0172e-04\n",
            "Epoch 12: loss improved from 0.00021 to 0.00020, saving model to Nifty_Best_Model.hdf5\n",
            "989/989 [==============================] - 33s 34ms/step - loss: 2.0172e-04\n",
            "Epoch 13/100\n",
            "989/989 [==============================] - ETA: 0s - loss: 2.0148e-04\n",
            "Epoch 13: loss improved from 0.00020 to 0.00020, saving model to Nifty_Best_Model.hdf5\n",
            "989/989 [==============================] - 33s 33ms/step - loss: 2.0148e-04\n",
            "Epoch 14/100\n",
            "989/989 [==============================] - ETA: 0s - loss: 2.0808e-04\n",
            "Epoch 14: loss did not improve from 0.00020\n",
            "989/989 [==============================] - 31s 32ms/step - loss: 2.0808e-04\n",
            "Epoch 15/100\n",
            "989/989 [==============================] - ETA: 0s - loss: 2.0849e-04\n",
            "Epoch 15: loss did not improve from 0.00020\n",
            "989/989 [==============================] - 31s 31ms/step - loss: 2.0849e-04\n",
            "Epoch 16/100\n",
            "988/989 [============================>.] - ETA: 0s - loss: 1.9150e-04\n",
            "Epoch 16: loss improved from 0.00020 to 0.00019, saving model to Nifty_Best_Model.hdf5\n",
            "989/989 [==============================] - 31s 31ms/step - loss: 1.9131e-04\n",
            "Epoch 17/100\n",
            "989/989 [==============================] - ETA: 0s - loss: 1.8958e-04\n",
            "Epoch 17: loss improved from 0.00019 to 0.00019, saving model to Nifty_Best_Model.hdf5\n",
            "989/989 [==============================] - 31s 31ms/step - loss: 1.8958e-04\n",
            "Epoch 18/100\n",
            "989/989 [==============================] - ETA: 0s - loss: 2.2392e-04\n",
            "Epoch 18: loss did not improve from 0.00019\n",
            "989/989 [==============================] - 31s 32ms/step - loss: 2.2392e-04\n",
            "Epoch 19/100\n",
            "988/989 [============================>.] - ETA: 0s - loss: 1.9330e-04\n",
            "Epoch 19: loss did not improve from 0.00019\n",
            "989/989 [==============================] - 32s 32ms/step - loss: 1.9352e-04\n",
            "Epoch 20/100\n",
            "989/989 [==============================] - ETA: 0s - loss: 1.9658e-04\n",
            "Epoch 20: loss did not improve from 0.00019\n",
            "989/989 [==============================] - 31s 32ms/step - loss: 1.9658e-04\n",
            "Epoch 21/100\n",
            "989/989 [==============================] - ETA: 0s - loss: 1.8412e-04\n",
            "Epoch 21: loss improved from 0.00019 to 0.00018, saving model to Nifty_Best_Model.hdf5\n",
            "989/989 [==============================] - 31s 32ms/step - loss: 1.8412e-04\n",
            "Epoch 22/100\n",
            "988/989 [============================>.] - ETA: 0s - loss: 2.0728e-04\n",
            "Epoch 22: loss did not improve from 0.00018\n",
            "989/989 [==============================] - 32s 32ms/step - loss: 2.0745e-04\n",
            "Epoch 23/100\n",
            "989/989 [==============================] - ETA: 0s - loss: 2.0339e-04\n",
            "Epoch 23: loss did not improve from 0.00018\n",
            "989/989 [==============================] - 31s 31ms/step - loss: 2.0339e-04\n",
            "Epoch 24/100\n",
            "989/989 [==============================] - ETA: 0s - loss: 1.9727e-04\n",
            "Epoch 24: loss did not improve from 0.00018\n",
            "989/989 [==============================] - 31s 31ms/step - loss: 1.9727e-04\n",
            "Epoch 25/100\n",
            "989/989 [==============================] - ETA: 0s - loss: 1.7288e-04\n",
            "Epoch 25: loss improved from 0.00018 to 0.00017, saving model to Nifty_Best_Model.hdf5\n",
            "989/989 [==============================] - 32s 32ms/step - loss: 1.7288e-04\n",
            "Epoch 26/100\n",
            "988/989 [============================>.] - ETA: 0s - loss: 1.9188e-04\n",
            "Epoch 26: loss did not improve from 0.00017\n",
            "989/989 [==============================] - 32s 32ms/step - loss: 1.9210e-04\n",
            "Epoch 27/100\n",
            "989/989 [==============================] - ETA: 0s - loss: 1.7182e-04\n",
            "Epoch 27: loss improved from 0.00017 to 0.00017, saving model to Nifty_Best_Model.hdf5\n",
            "989/989 [==============================] - 32s 32ms/step - loss: 1.7182e-04\n",
            "Epoch 28/100\n",
            "989/989 [==============================] - ETA: 0s - loss: 1.7777e-04\n",
            "Epoch 28: loss did not improve from 0.00017\n",
            "989/989 [==============================] - 32s 32ms/step - loss: 1.7777e-04\n",
            "Epoch 29/100\n",
            "988/989 [============================>.] - ETA: 0s - loss: 1.7418e-04\n",
            "Epoch 29: loss did not improve from 0.00017\n",
            "989/989 [==============================] - 33s 33ms/step - loss: 1.7405e-04\n",
            "Epoch 30/100\n",
            "989/989 [==============================] - ETA: 0s - loss: 1.7918e-04\n",
            "Epoch 30: loss did not improve from 0.00017\n",
            "989/989 [==============================] - 31s 32ms/step - loss: 1.7918e-04\n",
            "Epoch 31/100\n",
            "989/989 [==============================] - ETA: 0s - loss: 1.6330e-04\n",
            "Epoch 31: loss improved from 0.00017 to 0.00016, saving model to Nifty_Best_Model.hdf5\n",
            "989/989 [==============================] - 31s 32ms/step - loss: 1.6330e-04\n",
            "Epoch 32/100\n",
            "989/989 [==============================] - ETA: 0s - loss: 1.7452e-04\n",
            "Epoch 32: loss did not improve from 0.00016\n",
            "989/989 [==============================] - 32s 33ms/step - loss: 1.7452e-04\n",
            "Epoch 33/100\n",
            "989/989 [==============================] - ETA: 0s - loss: 1.7606e-04\n",
            "Epoch 33: loss did not improve from 0.00016\n",
            "989/989 [==============================] - 32s 32ms/step - loss: 1.7606e-04\n",
            "Epoch 34/100\n",
            "988/989 [============================>.] - ETA: 0s - loss: 1.7922e-04\n",
            "Epoch 34: loss did not improve from 0.00016\n",
            "989/989 [==============================] - 32s 32ms/step - loss: 1.7908e-04\n",
            "Epoch 35/100\n",
            "989/989 [==============================] - ETA: 0s - loss: 1.5774e-04\n",
            "Epoch 35: loss improved from 0.00016 to 0.00016, saving model to Nifty_Best_Model.hdf5\n",
            "989/989 [==============================] - 32s 32ms/step - loss: 1.5774e-04\n",
            "Epoch 36/100\n",
            "989/989 [==============================] - ETA: 0s - loss: 1.8351e-04\n",
            "Epoch 36: loss did not improve from 0.00016\n",
            "989/989 [==============================] - 31s 31ms/step - loss: 1.8351e-04\n",
            "Epoch 37/100\n",
            "989/989 [==============================] - ETA: 0s - loss: 1.6762e-04\n",
            "Epoch 37: loss did not improve from 0.00016\n",
            "989/989 [==============================] - 32s 32ms/step - loss: 1.6762e-04\n",
            "Epoch 38/100\n",
            "989/989 [==============================] - ETA: 0s - loss: 1.6874e-04\n",
            "Epoch 38: loss did not improve from 0.00016\n",
            "989/989 [==============================] - 32s 32ms/step - loss: 1.6874e-04\n",
            "Epoch 39/100\n",
            "989/989 [==============================] - ETA: 0s - loss: 1.6585e-04\n",
            "Epoch 39: loss did not improve from 0.00016\n",
            "989/989 [==============================] - 32s 32ms/step - loss: 1.6585e-04\n",
            "Epoch 40/100\n",
            "989/989 [==============================] - ETA: 0s - loss: 1.7091e-04\n",
            "Epoch 40: loss did not improve from 0.00016\n",
            "989/989 [==============================] - 32s 32ms/step - loss: 1.7091e-04\n"
          ]
        },
        {
          "output_type": "execute_result",
          "data": {
            "text/plain": [
              "<keras.callbacks.History at 0x7f19154f5090>"
            ]
          },
          "metadata": {},
          "execution_count": 17
        }
      ]
    },
    {
      "cell_type": "code",
      "source": [
        "best_model = models.load_model(\"/content/Nifty_Best_Model.hdf5\")"
      ],
      "metadata": {
        "id": "BOodpTAu63bz"
      },
      "execution_count": 18,
      "outputs": []
    },
    {
      "cell_type": "code",
      "source": [
        "def revgetdata(data,lookback):\n",
        "    Y=[]\n",
        "    for i in range(len(data)-lookback-1):\n",
        "        Y.append(data[i+lookback,0])\n",
        "    return np.array(Y).reshape(-1,1)"
      ],
      "metadata": {
        "id": "kK62SIr-LafV"
      },
      "execution_count": 19,
      "outputs": []
    },
    {
      "cell_type": "code",
      "source": [
        "X_test,y1_test=getdata(test,lookback)\n",
        "y_pred=best_model.predict(X_test)\n",
        "y1_test=scaler.inverse_transform(y1_test)"
      ],
      "metadata": {
        "id": "qNhsYloIK57R"
      },
      "execution_count": 20,
      "outputs": []
    },
    {
      "cell_type": "code",
      "source": [
        "y_pred = revgetdata(y_pred,lookback)\n",
        "y_pred=scaler.inverse_transform(y_pred)"
      ],
      "metadata": {
        "id": "tFQmB6JjFmd6"
      },
      "execution_count": 21,
      "outputs": []
    },
    {
      "cell_type": "code",
      "source": [
        "plt.figure(figsize=(14,5))\n",
        "plt.plot(y1_test, label = 'Nifty Original')\n",
        "plt.plot(y_pred, label = 'Nifty_Predicted')\n",
        "plt.ylabel('Nifty')\n",
        "plt.legend()\n",
        "plt.show()"
      ],
      "metadata": {
        "colab": {
          "base_uri": "https://localhost:8080/",
          "height": 320
        },
        "id": "qgnHmlHP7FaW",
        "outputId": "3d39b637-3762-4306-b19f-a9854a23a353"
      },
      "execution_count": 22,
      "outputs": [
        {
          "output_type": "display_data",
          "data": {
            "text/plain": [
              "<Figure size 1008x360 with 1 Axes>"
            ],
            "image/png": "[encoded data removed]"
          },
          "metadata": {
            "needs_background": "light"
          }
        }
      ]
    },
    {
      "cell_type": "code",
      "source": [
        "#Metrics\n",
        "print(\"MAE:\",metrics.mean_absolute_error(y1_test[:y_pred.size],y_pred),\"MSE:\",metrics.mean_squared_error(y1_test[:y_pred.size],y_pred),\"R^2:\",metrics.r2_score(y1_test[:y_pred.size],y_pred))"
      ],
      "metadata": {
        "colab": {
          "base_uri": "https://localhost:8080/"
        },
        "id": "vEuOHSNXRANb",
        "outputId": "a94c6515-24fc-49b7-9c7c-11d02fa2f919"
      },
      "execution_count": 33,
      "outputs": [
        {
          "output_type": "stream",
          "name": "stdout",
          "text": [
            "MAE: 613.8776863473361 MSE: 594521.9644115886 R^2: 0.6367544422601956\n"
          ]
        }
      ]
    },
    {
      "cell_type": "markdown",
      "source": [
        "# Actual Testing"
      ],
      "metadata": {
        "id": "_7QC301tM3FU"
      }
    },
    {
      "cell_type": "code",
      "source": [
        "adf = pd.read_excel('/content/drive/MyDrive/Colab Notebooks/Colab_Datasets/Nifty/Nifty Close test 2022.xlsx')"
      ],
      "metadata": {
        "id": "oPQ4e59rNBOJ"
      },
      "execution_count": 23,
      "outputs": []
    },
    {
      "cell_type": "code",
      "source": [
        "adataset = np.array(adf['Close'])\n",
        "adataset = adataset.reshape(-1,1)\n",
        "adataset = scaler.fit_transform(adataset)"
      ],
      "metadata": {
        "id": "u94RTZY0NVeb"
      },
      "execution_count": 24,
      "outputs": []
    },
    {
      "cell_type": "code",
      "source": [
        "aX_test,ay1_test=getdata(adataset,lookback)\n",
        "aX_test=aX_test.reshape(aX_test.shape[0],aX_test.shape[1],1)"
      ],
      "metadata": {
        "id": "VpNtLcPnM5fb"
      },
      "execution_count": 25,
      "outputs": []
    },
    {
      "cell_type": "code",
      "source": [
        "ay_pred=best_model.predict(aX_test)\n",
        "ay1_test=scaler.inverse_transform(ay1_test)\n",
        "ay_pred = revgetdata(ay_pred,lookback)\n",
        "ay_pred=scaler.inverse_transform(ay_pred)"
      ],
      "metadata": {
        "id": "mmN7iku1N1dZ"
      },
      "execution_count": 26,
      "outputs": []
    },
    {
      "cell_type": "code",
      "source": [
        "plt.figure(figsize=(14,5))\n",
        "plt.plot(ay1_test, label = 'Nifty Original Actual Test')\n",
        "plt.plot(ay_pred, label = 'Nifty_Predicted Actual Test')\n",
        "plt.ylabel('Nifty')\n",
        "plt.legend()\n",
        "plt.show()"
      ],
      "metadata": {
        "colab": {
          "base_uri": "https://localhost:8080/",
          "height": 320
        },
        "id": "eMVsNw2OOBEd",
        "outputId": "fb6cbda1-6545-438c-bbb7-df71ae317b3d"
      },
      "execution_count": 27,
      "outputs": [
        {
          "output_type": "display_data",
          "data": {
            "text/plain": [
              "<Figure size 1008x360 with 1 Axes>"
            ],
            "image/png": "[encoded data removed]"
          },
          "metadata": {
            "needs_background": "light"
          }
        }
      ]
    },
    {
      "cell_type": "code",
      "source": [
        "#Metrics\n",
        "print(\"MAE:\",metrics.mean_absolute_error(ay1_test[:ay_pred.size],ay_pred),\"MSE:\",metrics.mean_squared_error(ay1_test[:ay_pred.size],ay_pred),\"R^2:\",metrics.r2_score(ay1_test[:ay_pred.size],ay_pred))"
      ],
      "metadata": {
        "colab": {
          "base_uri": "https://localhost:8080/"
        },
        "id": "mkWSQklWSROa",
        "outputId": "1197f9d3-d3f3-4775-8176-bf99fec13c18"
      },
      "execution_count": 34,
      "outputs": [
        {
          "output_type": "stream",
          "name": "stdout",
          "text": [
            "MAE: 73.4525468750001 MSE: 16174.93973168945 R^2: 0.9722960617045681\n"
          ]
        }
      ]
    }
  ]
}